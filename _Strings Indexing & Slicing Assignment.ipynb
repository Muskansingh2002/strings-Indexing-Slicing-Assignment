{
 "cells": [
  {
   "cell_type": "markdown",
   "id": "9db4d7c3-3fc4-42b2-b54b-0c9b50b5c4f9",
   "metadata": {},
   "source": [
    "Q1: How can we store a single quote (‘) as a string in a variable?"
   ]
  },
  {
   "cell_type": "code",
   "execution_count": 3,
   "id": "fef9fe45-8284-4f1e-92c3-94e51de688d3",
   "metadata": {},
   "outputs": [
    {
     "name": "stdout",
     "output_type": "stream",
     "text": [
      "This is a single quote: '\n",
      "This is a single quote: '\n"
     ]
    }
   ],
   "source": [
    "# Using double quotes\n",
    "single_quote_str = \"This is a single quote: '\"\n",
    "print(single_quote_str)  \n",
    "\n",
    "# Using escape character\n",
    "single_quote_str = 'This is a single quote: \\''\n",
    "print(single_quote_str) \n"
   ]
  },
  {
   "cell_type": "code",
   "execution_count": null,
   "id": "7e4d5285-3f22-418c-9124-db6fe3419c23",
   "metadata": {},
   "outputs": [],
   "source": []
  },
  {
   "cell_type": "markdown",
   "id": "b379d08f-743d-4d6f-803c-6a57c84c04e5",
   "metadata": {},
   "source": [
    "Q2: Refer the below variable:\n",
    "x = 'a'\n",
    "Here, is x a character type or string type variable? Support your answer with an explanation."
   ]
  },
  {
   "cell_type": "markdown",
   "id": "34c7142c-e541-498c-9655-543aae7fd8eb",
   "metadata": {},
   "source": [
    "Ans:\n",
    "    In Python, there is no distinct character type. Single characters are treated as strings of length one."
   ]
  },
  {
   "cell_type": "code",
   "execution_count": 2,
   "id": "1394fec8-3ce6-44f3-b794-7ac91ba21f44",
   "metadata": {},
   "outputs": [
    {
     "name": "stdout",
     "output_type": "stream",
     "text": [
      "<class 'str'>\n",
      "1\n"
     ]
    }
   ],
   "source": [
    "x='a'\n",
    "print(type(x))\n",
    "print(len(x))"
   ]
  },
  {
   "cell_type": "code",
   "execution_count": null,
   "id": "acb2c355-e2ea-4206-b7b7-18e7adba218f",
   "metadata": {},
   "outputs": [],
   "source": []
  },
  {
   "cell_type": "markdown",
   "id": "5ad62d14-6dc4-455d-881e-8348f547a103",
   "metadata": {},
   "source": [
    "Q3: Apply the following functions on this variable: ‘Welcome to Python foundation course'\n",
    "1. find ()\n",
    "2. count()\n",
    "3. len()\n",
    "4. Concatenation\n",
    "\n",
    "Note: You can use your choice of parameters. But make sure it is correct."
   ]
  },
  {
   "cell_type": "code",
   "execution_count": 5,
   "id": "8def4519-c504-482c-8803-4e8cf736f6fd",
   "metadata": {},
   "outputs": [
    {
     "name": "stdout",
     "output_type": "stream",
     "text": [
      "Index of 'Python': 11\n",
      "Count of 'Python': 1\n",
      "Length of the string: 35\n",
      "Concatenated string: Welcome to Python foundation course - Let's start learning!\n"
     ]
    }
   ],
   "source": [
    "text = 'Welcome to Python foundation course'\n",
    "\n",
    "# Finding the index of the first occurrence of 'Python'\n",
    "index = text.find('Python')\n",
    "print(f\"Index of 'Python': {index}\")\n",
    "\n",
    "# Counting the number of occurrences of 'Python'\n",
    "count_python = text.count('Python')\n",
    "print(f\"Count of 'Python': {count_python}\") \n",
    "\n",
    "# Getting the length of the string\n",
    "length = len(text)\n",
    "print(f\"Length of the string: {length}\") \n",
    "\n",
    "additional_text = \" - Let's start learning!\"\n",
    "concatenated_text = text + additional_text\n",
    "print(f\"Concatenated string: {concatenated_text}\")"
   ]
  },
  {
   "cell_type": "code",
   "execution_count": null,
   "id": "7e9e9499-e420-49c0-8efc-e3ce65a42b51",
   "metadata": {},
   "outputs": [],
   "source": []
  },
  {
   "cell_type": "markdown",
   "id": "7518b8a8-c408-47d5-b76b-af334cf46052",
   "metadata": {},
   "source": [
    "Q4: For the variable:word = 'PanaJi@12256'\n",
    "\n",
    "Calculate the following:\n",
    "    \n",
    "(a) Total number of alphabets in lowercase\n",
    "\n",
    "(b) Total number of alphabets in uppercase\n",
    "\n",
    "(c) Total number of numerical in string"
   ]
  },
  {
   "cell_type": "code",
   "execution_count": 7,
   "id": "efb1db0b-89a9-4b2a-b293-34eab992e432",
   "metadata": {},
   "outputs": [
    {
     "name": "stdout",
     "output_type": "stream",
     "text": [
      "Total number of alphabets in lowercase: 4\n",
      "Total number of alphabets in uppercase: 2\n",
      "Total number of numerical characters in string: 5\n"
     ]
    }
   ],
   "source": [
    "word = 'PanaJi@12256'\n",
    "\n",
    "# Initialize counters\n",
    "lowercase_count = 0\n",
    "uppercase_count = 0\n",
    "numerical_count = 0\n",
    "\n",
    "# Iterate through each character in the string\n",
    "for char in word:\n",
    "    if char.islower():\n",
    "        lowercase_count += 1\n",
    "    elif char.isupper():\n",
    "        uppercase_count += 1\n",
    "    elif char.isdigit():\n",
    "        numerical_count += 1\n",
    "\n",
    "print(f\"Total number of alphabets in lowercase: {lowercase_count}\")  \n",
    "print(f\"Total number of alphabets in uppercase: {uppercase_count}\") \n",
    "print(f\"Total number of numerical characters in string: {numerical_count}\") \n"
   ]
  },
  {
   "cell_type": "code",
   "execution_count": null,
   "id": "fb48f449-5b92-425d-b6e5-f1d2ac95c8af",
   "metadata": {},
   "outputs": [],
   "source": []
  },
  {
   "cell_type": "markdown",
   "id": "c13a32ed-8b72-46bd-add3-1d543e044ed2",
   "metadata": {},
   "source": [
    "Q5:Write a code to store a numerical value inside a variable then convert it into string."
   ]
  },
  {
   "cell_type": "code",
   "execution_count": 10,
   "id": "6d43a023-ae00-4143-bbea-77a8cc310dc5",
   "metadata": {},
   "outputs": [
    {
     "name": "stdout",
     "output_type": "stream",
     "text": [
      "Numerical value: 12345\n",
      "String value: 12345\n",
      "Type of numerical value: <class 'int'>\n",
      "Type of string value: <class 'str'>\n"
     ]
    }
   ],
   "source": [
    "# Store a numerical value inside a variable\n",
    "num_value = 12345\n",
    "\n",
    "# Convert the numerical value to a string\n",
    "str_value = str(num_value)\n",
    "\n",
    "# Print the results\n",
    "print(f\"Numerical value: {num_value}\")  \n",
    "print(f\"String value: {str_value}\")     \n",
    "print(f\"Type of numerical value: {type(num_value)}\")  \n",
    "print(f\"Type of string value: {type(str_value)}\")     "
   ]
  },
  {
   "cell_type": "code",
   "execution_count": null,
   "id": "a34c1f3d-1909-4356-bec4-5d7326811cf4",
   "metadata": {},
   "outputs": [],
   "source": []
  }
 ],
 "metadata": {
  "kernelspec": {
   "display_name": "Python 3 (ipykernel)",
   "language": "python",
   "name": "python3"
  },
  "language_info": {
   "codemirror_mode": {
    "name": "ipython",
    "version": 3
   },
   "file_extension": ".py",
   "mimetype": "text/x-python",
   "name": "python",
   "nbconvert_exporter": "python",
   "pygments_lexer": "ipython3",
   "version": "3.10.8"
  }
 },
 "nbformat": 4,
 "nbformat_minor": 5
}
